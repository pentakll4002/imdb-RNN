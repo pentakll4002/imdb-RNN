{
 "cells": [
  {
   "cell_type": "code",
   "execution_count": 4,
   "metadata": {},
   "outputs": [],
   "source": [
    "import numpy as np \n",
    "import tensorflow as tf\n",
    "from tensorflow.keras.datasets import imdb\n",
    "from tensorflow.keras.preprocessing import sequence\n",
    "from tensorflow.keras.models import load_model\n",
    "import warnings\n",
    "\n",
    "warnings.filterwarnings('ignore')\n",
    "%matplotlib inline"
   ]
  },
  {
   "cell_type": "code",
   "execution_count": 5,
   "metadata": {},
   "outputs": [],
   "source": [
    "# Load the IMDB dataset word index\n",
    "word_index = imdb.get_word_index()\n",
    "reverse_word_index = {value: key for key, value in word_index.items()}"
   ]
  },
  {
   "cell_type": "code",
   "execution_count": 6,
   "metadata": {},
   "outputs": [
    {
     "name": "stderr",
     "output_type": "stream",
     "text": [
      "WARNING:absl:Compiled the loaded model, but the compiled metrics have yet to be built. `model.compile_metrics` will be empty until you train or evaluate the model.\n"
     ]
    },
    {
     "data": {
      "text/html": [
       "<pre style=\"white-space:pre;overflow-x:auto;line-height:normal;font-family:Menlo,'DejaVu Sans Mono',consolas,'Courier New',monospace\"><span style=\"font-weight: bold\">Model: \"sequential\"</span>\n",
       "</pre>\n"
      ],
      "text/plain": [
       "\u001b[1mModel: \"sequential\"\u001b[0m\n"
      ]
     },
     "metadata": {},
     "output_type": "display_data"
    },
    {
     "data": {
      "text/html": [
       "<pre style=\"white-space:pre;overflow-x:auto;line-height:normal;font-family:Menlo,'DejaVu Sans Mono',consolas,'Courier New',monospace\">┏━━━━━━━━━━━━━━━━━━━━━━━━━━━━━━━━━┳━━━━━━━━━━━━━━━━━━━━━━━━┳━━━━━━━━━━━━━━━┓\n",
       "┃<span style=\"font-weight: bold\"> Layer (type)                    </span>┃<span style=\"font-weight: bold\"> Output Shape           </span>┃<span style=\"font-weight: bold\">       Param # </span>┃\n",
       "┡━━━━━━━━━━━━━━━━━━━━━━━━━━━━━━━━━╇━━━━━━━━━━━━━━━━━━━━━━━━╇━━━━━━━━━━━━━━━┩\n",
       "│ embedding (<span style=\"color: #0087ff; text-decoration-color: #0087ff\">Embedding</span>)           │ (<span style=\"color: #00af00; text-decoration-color: #00af00\">32</span>, <span style=\"color: #00af00; text-decoration-color: #00af00\">500</span>, <span style=\"color: #00af00; text-decoration-color: #00af00\">128</span>)         │     <span style=\"color: #00af00; text-decoration-color: #00af00\">1,280,000</span> │\n",
       "├─────────────────────────────────┼────────────────────────┼───────────────┤\n",
       "│ simple_rnn (<span style=\"color: #0087ff; text-decoration-color: #0087ff\">SimpleRNN</span>)          │ (<span style=\"color: #00af00; text-decoration-color: #00af00\">32</span>, <span style=\"color: #00af00; text-decoration-color: #00af00\">128</span>)              │        <span style=\"color: #00af00; text-decoration-color: #00af00\">32,896</span> │\n",
       "├─────────────────────────────────┼────────────────────────┼───────────────┤\n",
       "│ dense (<span style=\"color: #0087ff; text-decoration-color: #0087ff\">Dense</span>)                   │ (<span style=\"color: #00af00; text-decoration-color: #00af00\">32</span>, <span style=\"color: #00af00; text-decoration-color: #00af00\">1</span>)                │           <span style=\"color: #00af00; text-decoration-color: #00af00\">129</span> │\n",
       "└─────────────────────────────────┴────────────────────────┴───────────────┘\n",
       "</pre>\n"
      ],
      "text/plain": [
       "┏━━━━━━━━━━━━━━━━━━━━━━━━━━━━━━━━━┳━━━━━━━━━━━━━━━━━━━━━━━━┳━━━━━━━━━━━━━━━┓\n",
       "┃\u001b[1m \u001b[0m\u001b[1mLayer (type)                   \u001b[0m\u001b[1m \u001b[0m┃\u001b[1m \u001b[0m\u001b[1mOutput Shape          \u001b[0m\u001b[1m \u001b[0m┃\u001b[1m \u001b[0m\u001b[1m      Param #\u001b[0m\u001b[1m \u001b[0m┃\n",
       "┡━━━━━━━━━━━━━━━━━━━━━━━━━━━━━━━━━╇━━━━━━━━━━━━━━━━━━━━━━━━╇━━━━━━━━━━━━━━━┩\n",
       "│ embedding (\u001b[38;5;33mEmbedding\u001b[0m)           │ (\u001b[38;5;34m32\u001b[0m, \u001b[38;5;34m500\u001b[0m, \u001b[38;5;34m128\u001b[0m)         │     \u001b[38;5;34m1,280,000\u001b[0m │\n",
       "├─────────────────────────────────┼────────────────────────┼───────────────┤\n",
       "│ simple_rnn (\u001b[38;5;33mSimpleRNN\u001b[0m)          │ (\u001b[38;5;34m32\u001b[0m, \u001b[38;5;34m128\u001b[0m)              │        \u001b[38;5;34m32,896\u001b[0m │\n",
       "├─────────────────────────────────┼────────────────────────┼───────────────┤\n",
       "│ dense (\u001b[38;5;33mDense\u001b[0m)                   │ (\u001b[38;5;34m32\u001b[0m, \u001b[38;5;34m1\u001b[0m)                │           \u001b[38;5;34m129\u001b[0m │\n",
       "└─────────────────────────────────┴────────────────────────┴───────────────┘\n"
      ]
     },
     "metadata": {},
     "output_type": "display_data"
    },
    {
     "data": {
      "text/html": [
       "<pre style=\"white-space:pre;overflow-x:auto;line-height:normal;font-family:Menlo,'DejaVu Sans Mono',consolas,'Courier New',monospace\"><span style=\"font-weight: bold\"> Total params: </span><span style=\"color: #00af00; text-decoration-color: #00af00\">1,313,027</span> (5.01 MB)\n",
       "</pre>\n"
      ],
      "text/plain": [
       "\u001b[1m Total params: \u001b[0m\u001b[38;5;34m1,313,027\u001b[0m (5.01 MB)\n"
      ]
     },
     "metadata": {},
     "output_type": "display_data"
    },
    {
     "data": {
      "text/html": [
       "<pre style=\"white-space:pre;overflow-x:auto;line-height:normal;font-family:Menlo,'DejaVu Sans Mono',consolas,'Courier New',monospace\"><span style=\"font-weight: bold\"> Trainable params: </span><span style=\"color: #00af00; text-decoration-color: #00af00\">1,313,025</span> (5.01 MB)\n",
       "</pre>\n"
      ],
      "text/plain": [
       "\u001b[1m Trainable params: \u001b[0m\u001b[38;5;34m1,313,025\u001b[0m (5.01 MB)\n"
      ]
     },
     "metadata": {},
     "output_type": "display_data"
    },
    {
     "data": {
      "text/html": [
       "<pre style=\"white-space:pre;overflow-x:auto;line-height:normal;font-family:Menlo,'DejaVu Sans Mono',consolas,'Courier New',monospace\"><span style=\"font-weight: bold\"> Non-trainable params: </span><span style=\"color: #00af00; text-decoration-color: #00af00\">0</span> (0.00 B)\n",
       "</pre>\n"
      ],
      "text/plain": [
       "\u001b[1m Non-trainable params: \u001b[0m\u001b[38;5;34m0\u001b[0m (0.00 B)\n"
      ]
     },
     "metadata": {},
     "output_type": "display_data"
    },
    {
     "data": {
      "text/html": [
       "<pre style=\"white-space:pre;overflow-x:auto;line-height:normal;font-family:Menlo,'DejaVu Sans Mono',consolas,'Courier New',monospace\"><span style=\"font-weight: bold\"> Optimizer params: </span><span style=\"color: #00af00; text-decoration-color: #00af00\">2</span> (12.00 B)\n",
       "</pre>\n"
      ],
      "text/plain": [
       "\u001b[1m Optimizer params: \u001b[0m\u001b[38;5;34m2\u001b[0m (12.00 B)\n"
      ]
     },
     "metadata": {},
     "output_type": "display_data"
    }
   ],
   "source": [
    "# Load the pre-trained model with ReLU activation\n",
    "model = load_model('simple_rnn_imdb.h5')\n",
    "model.summary()"
   ]
  },
  {
   "cell_type": "code",
   "execution_count": 7,
   "metadata": {},
   "outputs": [
    {
     "data": {
      "text/plain": [
       "[array([[-2.0113385e-01, -1.1641258e-02, -4.0374625e-02, ...,\n",
       "          2.1025429e-02,  7.2891229e-01, -2.9603919e-02],\n",
       "        [-1.2987382e-02, -4.3122474e-02,  1.7499369e-02, ...,\n",
       "         -4.2186502e-02,  7.2675809e-02,  1.6866832e-03],\n",
       "        [-5.5930973e-03,  5.0819401e-02, -5.2112997e-02, ...,\n",
       "          6.3655823e-02,  3.0957017e-02,  4.0573515e-02],\n",
       "        ...,\n",
       "        [-4.3482866e-02, -3.5617765e-02, -5.3913384e-03, ...,\n",
       "          3.7227426e-02,  2.7084730e-03, -3.2347150e-02],\n",
       "        [ 1.8628288e-02,  1.4604367e-03, -1.3020774e-02, ...,\n",
       "         -8.9431021e-05,  3.8358953e-02, -4.3531053e-02],\n",
       "        [-1.3447586e-02, -4.4336084e-02,  1.6197391e-03, ...,\n",
       "         -5.1580399e-02,  4.3534216e-02, -9.1241980e-03]], dtype=float32),\n",
       " array([[ 0.07371242, -0.0739072 ,  0.18941647, ...,  0.08473361,\n",
       "          0.02169893,  0.02734366],\n",
       "        [ 0.04956408,  0.17563845, -0.09952062, ..., -0.05611509,\n",
       "          0.16125539, -0.17834225],\n",
       "        [ 0.01711602,  0.13305086, -0.1339716 , ..., -0.00622673,\n",
       "         -0.00376396, -0.00035413],\n",
       "        ...,\n",
       "        [-0.03652744,  0.04606828,  0.07134032, ..., -0.05276867,\n",
       "          0.00649592, -0.04061825],\n",
       "        [ 0.01975159, -0.13464205, -0.1169874 , ...,  0.00342942,\n",
       "         -0.15482394, -0.03155186],\n",
       "        [ 0.01091253,  0.04038283,  0.01951903, ..., -0.0650658 ,\n",
       "          0.05849651,  0.01468273]], dtype=float32),\n",
       " array([[ 0.00573393,  0.06323417, -0.15659249, ...,  0.00473885,\n",
       "          0.08907985,  0.01534065],\n",
       "        [ 0.06733467, -0.13130285, -0.13596098, ...,  0.07125843,\n",
       "         -0.05741272, -0.01215726],\n",
       "        [ 0.06087464,  0.05641649, -0.10559033, ...,  0.03131364,\n",
       "         -0.03011216,  0.02955307],\n",
       "        ...,\n",
       "        [ 0.10814722,  0.14576957, -0.0828269 , ..., -0.05583804,\n",
       "         -0.01466303,  0.09917881],\n",
       "        [-0.04619833,  0.04782939, -0.12729163, ...,  0.01474491,\n",
       "         -0.30190942,  0.26123637],\n",
       "        [ 0.08025751, -0.05983599, -0.08623396, ..., -0.00139346,\n",
       "         -0.10285595,  0.06012413]], dtype=float32),\n",
       " array([-0.03336635,  0.0422062 , -0.0618855 , -0.03490157, -0.03659066,\n",
       "        -0.03435906, -0.0347169 , -0.02006476, -0.03904096,  0.02395383,\n",
       "        -0.03071792, -0.00366992,  0.02218218,  0.00962399,  0.02086322,\n",
       "        -0.03913118,  0.01002298, -0.00044309, -0.03996377, -0.03825226,\n",
       "        -0.034491  ,  0.0013806 , -0.02151334,  0.02597583,  0.02227762,\n",
       "         0.00907298,  0.01974591,  0.0288555 , -0.00385004,  0.01815728,\n",
       "        -0.01857096, -0.03027808, -0.0047783 ,  0.02389186,  0.02372415,\n",
       "        -0.00703144, -0.0046397 ,  0.03801513,  0.01388271, -0.04119192,\n",
       "         0.00386387,  0.03666162, -0.04381825,  0.02738908, -0.04132158,\n",
       "        -0.02918409, -0.00890741, -0.00744667,  0.01962566, -0.03913398,\n",
       "        -0.02196709, -0.00262955, -0.05779294, -0.03183819, -0.00133253,\n",
       "        -0.05380673, -0.03357629, -0.05105262, -0.04654906, -0.01415343,\n",
       "        -0.00125606, -0.00887043,  0.00242255, -0.0009096 , -0.05300351,\n",
       "        -0.00584267, -0.02413587, -0.02861899, -0.02795893, -0.00569952,\n",
       "         0.00835906, -0.02544954, -0.02511248, -0.00680653,  0.00389209,\n",
       "         0.03589804, -0.05392105, -0.04193508, -0.04072562,  0.00165292,\n",
       "        -0.00017797, -0.04166986,  0.01523557, -0.01933387,  0.01059476,\n",
       "         0.03810681,  0.01913257, -0.01173908, -0.02427954, -0.05544023,\n",
       "        -0.01564058, -0.04334865, -0.04553258,  0.02722473, -0.00866924,\n",
       "        -0.03359127,  0.00783363, -0.03485442,  0.02341994, -0.03604332,\n",
       "         0.0071207 , -0.01499168, -0.04093371, -0.02929248, -0.02726197,\n",
       "        -0.02312142, -0.05941736,  0.03594165, -0.03254781,  0.03338565,\n",
       "        -0.036715  ,  0.01560539, -0.03315549, -0.03971224,  0.01842229,\n",
       "         0.01431881, -0.01310597,  0.02608741,  0.02870252, -0.02850913,\n",
       "        -0.03878282, -0.01780353, -0.01640095, -0.05089339, -0.02713235,\n",
       "        -0.05004688, -0.0385474 ,  0.01318641], dtype=float32),\n",
       " array([[ 1.78505197e-01],\n",
       "        [ 3.41144651e-01],\n",
       "        [-3.62602808e-02],\n",
       "        [-1.78396747e-01],\n",
       "        [-4.35058445e-01],\n",
       "        [-1.15433991e-01],\n",
       "        [-2.50874490e-01],\n",
       "        [-7.42968768e-02],\n",
       "        [ 1.12879217e-01],\n",
       "        [ 1.56044617e-01],\n",
       "        [-1.16936788e-01],\n",
       "        [-3.56498137e-02],\n",
       "        [-1.18802145e-01],\n",
       "        [ 4.69601631e-01],\n",
       "        [ 8.37235674e-02],\n",
       "        [-6.67764479e-03],\n",
       "        [-7.44738802e-02],\n",
       "        [ 8.20238888e-02],\n",
       "        [ 1.57214388e-01],\n",
       "        [ 5.35907447e-02],\n",
       "        [-1.86936691e-01],\n",
       "        [-8.83499458e-02],\n",
       "        [-1.46224812e-01],\n",
       "        [-4.41389270e-02],\n",
       "        [ 4.28887568e-02],\n",
       "        [ 1.91418856e-01],\n",
       "        [-1.76869348e-01],\n",
       "        [-4.74087298e-02],\n",
       "        [-5.62858917e-02],\n",
       "        [-3.14991102e-02],\n",
       "        [ 2.88854033e-01],\n",
       "        [ 1.77424148e-01],\n",
       "        [-5.15253358e-02],\n",
       "        [ 5.84160574e-02],\n",
       "        [ 3.35290819e-01],\n",
       "        [-1.55827984e-01],\n",
       "        [-1.87498227e-01],\n",
       "        [ 5.30644178e-01],\n",
       "        [-1.98978469e-01],\n",
       "        [ 2.18178570e-01],\n",
       "        [-1.77586615e-01],\n",
       "        [ 1.15912631e-01],\n",
       "        [-6.76154912e-01],\n",
       "        [ 2.71579176e-01],\n",
       "        [-3.47779156e-03],\n",
       "        [-4.49070305e-01],\n",
       "        [ 2.33942255e-01],\n",
       "        [-1.02972515e-01],\n",
       "        [ 1.34599283e-01],\n",
       "        [-2.55594581e-01],\n",
       "        [ 2.73687933e-02],\n",
       "        [-2.74257779e-01],\n",
       "        [-1.33947164e-01],\n",
       "        [ 5.84548451e-02],\n",
       "        [ 1.41263083e-01],\n",
       "        [-6.03729561e-02],\n",
       "        [-8.57212618e-02],\n",
       "        [-5.47535956e-01],\n",
       "        [ 1.77316546e-01],\n",
       "        [-6.07504100e-02],\n",
       "        [ 9.72838178e-02],\n",
       "        [-6.70492128e-02],\n",
       "        [ 3.46460519e-03],\n",
       "        [ 1.59462765e-01],\n",
       "        [ 2.16123894e-01],\n",
       "        [-6.89410865e-01],\n",
       "        [ 1.87422305e-01],\n",
       "        [ 6.19131982e-01],\n",
       "        [ 8.94003138e-02],\n",
       "        [-7.87840664e-01],\n",
       "        [ 8.74082506e-01],\n",
       "        [-3.31745386e-01],\n",
       "        [ 1.77820310e-01],\n",
       "        [-2.81279325e-01],\n",
       "        [ 1.22669637e-01],\n",
       "        [ 2.50689894e-01],\n",
       "        [-4.91442457e-02],\n",
       "        [-5.97672939e-01],\n",
       "        [-2.45295838e-01],\n",
       "        [ 5.25281243e-02],\n",
       "        [-1.79107353e-01],\n",
       "        [-1.20110199e-01],\n",
       "        [ 2.43146762e-01],\n",
       "        [-7.29713857e-01],\n",
       "        [-7.40232766e-02],\n",
       "        [ 1.84177160e-01],\n",
       "        [-1.73062667e-01],\n",
       "        [-1.21840365e-01],\n",
       "        [-9.96137336e-02],\n",
       "        [ 1.32341325e-01],\n",
       "        [ 2.39953235e-01],\n",
       "        [-7.02763557e-01],\n",
       "        [-5.76843414e-03],\n",
       "        [ 4.70897667e-02],\n",
       "        [ 4.79997210e-02],\n",
       "        [-3.56653482e-02],\n",
       "        [-1.18921176e-01],\n",
       "        [-2.54686713e-01],\n",
       "        [ 8.41689855e-02],\n",
       "        [-8.98931269e-03],\n",
       "        [ 2.10108683e-01],\n",
       "        [-7.14274794e-02],\n",
       "        [-1.96460918e-01],\n",
       "        [-5.19165583e-02],\n",
       "        [-1.51840419e-01],\n",
       "        [-5.99840134e-02],\n",
       "        [-4.36854400e-02],\n",
       "        [ 1.50543109e-01],\n",
       "        [-1.38804615e-01],\n",
       "        [ 1.41829759e-01],\n",
       "        [-9.62269783e-01],\n",
       "        [ 2.84378707e-01],\n",
       "        [ 5.98169379e-02],\n",
       "        [ 2.01326221e-01],\n",
       "        [ 2.42143854e-01],\n",
       "        [-3.78182769e-01],\n",
       "        [ 5.71306970e-04],\n",
       "        [ 2.76592433e-01],\n",
       "        [-1.86549295e-02],\n",
       "        [ 1.37658115e-03],\n",
       "        [ 1.30097568e-01],\n",
       "        [ 2.44854167e-01],\n",
       "        [-2.09750026e-01],\n",
       "        [ 2.43370414e-01],\n",
       "        [-5.41154668e-02],\n",
       "        [-1.26012087e-01],\n",
       "        [-1.54726952e-01],\n",
       "        [ 2.26456195e-01]], dtype=float32),\n",
       " array([-0.5614665], dtype=float32)]"
      ]
     },
     "execution_count": 7,
     "metadata": {},
     "output_type": "execute_result"
    }
   ],
   "source": [
    "model.get_weights()"
   ]
  },
  {
   "cell_type": "code",
   "execution_count": 8,
   "metadata": {},
   "outputs": [],
   "source": [
    "# Step 2: Helper Functions\n",
    "# Function to decode reviews\n",
    "def decode_review(encoded_review):\n",
    "    return ' '.join([reverse_word_index.get(i - 3, '?') for i in encoded_review])\n",
    "\n",
    "# Function to preprocess user input\n",
    "def preprocess_text(text):\n",
    "    words = text.lower().split()\n",
    "    encoded_review = [word_index.get(word, 2) + 3 for word in words]\n",
    "    padded_review = sequence.pad_sequences([encoded_review], maxlen=500)\n",
    "    return padded_review\n"
   ]
  },
  {
   "cell_type": "code",
   "execution_count": 10,
   "metadata": {},
   "outputs": [],
   "source": [
    "### Prediction function\n",
    "\n",
    "def predict_sentiment(review):\n",
    "    preprocessed_input = preprocess_text(review)\n",
    "\n",
    "    prediction = model.predict(preprocessed_input)\n",
    "\n",
    "    sentiment = 'Positive' if prediction[0][0] > 0.5 else 'Negative'\n",
    "\n",
    "    return sentiment, prediction[0][0]"
   ]
  },
  {
   "cell_type": "code",
   "execution_count": 24,
   "metadata": {},
   "outputs": [
    {
     "name": "stdout",
     "output_type": "stream",
     "text": [
      "\u001b[1m1/1\u001b[0m \u001b[32m━━━━━━━━━━━━━━━━━━━━\u001b[0m\u001b[37m\u001b[0m \u001b[1m0s\u001b[0m 53ms/step\n",
      "Review: This movie was fantastic! The acting was great and the plot was thrilling.\n",
      "Sentiment: Positive\n",
      "Prediction Score: 0.5232015252113342\n"
     ]
    }
   ],
   "source": [
    "# Step 4: User Input and Prediction\n",
    "# Example review for prediction\n",
    "\n",
    "example_review = \"This movie was fantastic! The acting was great and the plot was thrilling.\"\n",
    "\n",
    "sentiment, score = predict_sentiment(example_review)\n",
    "\n",
    "print(f'Review: {example_review}')\n",
    "print(f'Sentiment: {sentiment}')\n",
    "print(f'Prediction Score: {score}')\n"
   ]
  }
 ],
 "metadata": {
  "kernelspec": {
   "display_name": "base",
   "language": "python",
   "name": "python3"
  },
  "language_info": {
   "codemirror_mode": {
    "name": "ipython",
    "version": 3
   },
   "file_extension": ".py",
   "mimetype": "text/x-python",
   "name": "python",
   "nbconvert_exporter": "python",
   "pygments_lexer": "ipython3",
   "version": "3.12.7"
  }
 },
 "nbformat": 4,
 "nbformat_minor": 2
}
